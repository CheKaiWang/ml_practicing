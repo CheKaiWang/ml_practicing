{
 "cells": [
  {
   "cell_type": "markdown",
   "id": "9fb8e6ae",
   "metadata": {},
   "source": [
    "## Task: Expiring but Not Cancelled Subscriber Churn Pridiction\n",
    "\n",
    "### Churn Definition:\n",
    "Subscribers at the end of each month who expired at the next month.\n",
    "\n",
    "### Expiring but Not Cancelled Subscriber\n",
    "For subscribers who:\n",
    "- expiration date on the next month\n",
    "- auto renew = true (havn’t cancel)\n",
    "\n",
    "Predict if the subscriber will truely expired or not (no matter manual cancel or force cancel)\n",
    "Calculate in Monthly basis (to sync with current churn rate calculation)"
   ]
  },
  {
   "cell_type": "markdown",
   "id": "fce5c3a2",
   "metadata": {},
   "source": [
    "### Libraries"
   ]
  },
  {
   "cell_type": "code",
   "execution_count": null,
   "id": "c921250f",
   "metadata": {},
   "outputs": [],
   "source": [
    "# machine learning library\n",
    "import sklearn # https://scikit-learn.org/stable/\n",
    "\n",
    "# linear algebra\n",
    "import numpy as np # https://numpy.org/\n",
    "\n",
    "# data processing\n",
    "import pandas as pd # https://github.com/pandas-dev/pandas"
   ]
  },
  {
   "cell_type": "markdown",
   "id": "eaf9a94e",
   "metadata": {},
   "source": [
    "dataframe"
   ]
  },
  {
   "cell_type": "code",
   "execution_count": null,
   "id": "8035a5ee",
   "metadata": {},
   "outputs": [],
   "source": [
    "url = 'https://raw.githubusercontent.com/CheKaiWang/ml_practicing/main/churn_prediction/user_feature_collection.csv'\n",
    "df = pd.read_csv(url)\n",
    "df.shape"
   ]
  },
  {
   "cell_type": "code",
   "execution_count": null,
   "id": "efdd8d35",
   "metadata": {},
   "outputs": [],
   "source": [
    "df.is_cancelled_next_month.value_counts()"
   ]
  },
  {
   "cell_type": "code",
   "execution_count": null,
   "id": "d0236c32",
   "metadata": {
    "scrolled": true
   },
   "outputs": [],
   "source": [
    "df.describe"
   ]
  },
  {
   "cell_type": "markdown",
   "id": "6a811228",
   "metadata": {},
   "source": [
    "### Data Preprocessing and Feature Selection\n",
    "Transfer non-numeric column to numbers"
   ]
  },
  {
   "cell_type": "markdown",
   "id": "61252d61",
   "metadata": {},
   "source": [
    "#### Datetimes"
   ]
  },
  {
   "cell_type": "code",
   "execution_count": null,
   "id": "e3cccdad",
   "metadata": {},
   "outputs": [],
   "source": [
    "# Register Date\n",
    "df['register_month'] = df.register_datetime.astype('datetime64[ns]').dt.month.astype('str')\n",
    "df['registered_days'] = (df.snapshot_date.astype('datetime64[ns]') - df.register_datetime.astype('datetime64[ns]')).dt.days\n",
    "\n",
    "# Camera Setup Date\n",
    "df['max_camera_setup_days'] = (df.snapshot_date.astype('datetime64[ns]') - df.first_camera_setup_datetime.astype('datetime64[ns]')).dt.days\n",
    "df['min_camera_setup_days'] = (df.snapshot_date.astype('datetime64[ns]') - df.last_camera_setup_datetime.astype('datetime64[ns]')).dt.days\n",
    "\n",
    "# Trial Date\n",
    "df['first_trial_month'] = df.first_trial_start_datetime.astype('datetime64[ns]').dt.month.fillna(0).astype('str')\n",
    "df['last_trial_month'] = df.last_trial_start_datetime.astype('datetime64[ns]').dt.month.fillna(0).astype('str')\n",
    "df['fdn_experience_age'] = (df.snapshot_date.astype('datetime64[ns]') - df.first_trial_start_datetime.astype('datetime64[ns]')).dt.days\n",
    "\n",
    "# Subscription\n",
    "df['first_subscribe_month'] = df.first_subscription_start_datetime.astype('datetime64[ns]').dt.month.fillna(0).astype('str')\n",
    "df['last_subscribe_month'] = df.last_subscription_start_datetime.astype('datetime64[ns]').dt.month.fillna(0).astype('str')\n",
    "df['subscription_period'] = (df.subscription_expire_datetime.astype('datetime64[ns]') - df.subscription_start_datetime.astype('datetime64[ns]')).dt.days\n",
    "df['fdn_remain_days'] = (df.subscription_expire_datetime.astype('datetime64[ns]') - df.snapshot_date.astype('datetime64[ns]')).dt.days\n"
   ]
  },
  {
   "cell_type": "markdown",
   "id": "cca0975a",
   "metadata": {},
   "source": [
    "#### Nominal Variables: 1/0, One-hot Encoding (For Linear), Label Encoding "
   ]
  },
  {
   "cell_type": "code",
   "execution_count": null,
   "id": "5406f9ec",
   "metadata": {},
   "outputs": [],
   "source": [
    "# is_cancelled_next_month: True/False\n",
    "df.is_cancelled_next_month = df.is_cancelled_next_month.astype(int)\n",
    "\n",
    "# One-hot Encoding\n",
    "df_category = df[['account_country', 'subscription_plan_id', 'register_month', 'first_trial_month', 'last_trial_month', 'first_subscribe_month', 'last_subscribe_month']]\n",
    "df_category_one_hot = pd.get_dummies(df_category)\n",
    "\n",
    "#Label Encoding\n",
    "from sklearn.preprocessing import LabelEncoder\n",
    "labelencoder = LabelEncoder()\n",
    "df_category_label = df_category.loc[:]\n",
    "df_category_label.account_country = labelencoder.fit_transform(df_category_label.account_country)\n",
    "df_category_label.subscription_plan_id = labelencoder.fit_transform(df_category_label.subscription_plan_id)\n",
    "\n"
   ]
  },
  {
   "cell_type": "markdown",
   "id": "c54f49a9",
   "metadata": {},
   "source": [
    "#### Select Features"
   ]
  },
  {
   "cell_type": "code",
   "execution_count": null,
   "id": "4e99de98",
   "metadata": {},
   "outputs": [],
   "source": [
    "df_1 = df[[\n",
    "    'registered_days','pet_count','max_pet_age','min_pet_age','camera_count','max_camera_setup_days','min_camera_setup_days','trial_count','fdn_experience_age','subscription_count','fdn_remain_days',\n",
    "    'heartbeat_day_cnt', 'login_day_cnt', 'liveview_day_cnt', 'talk_day_cnt', 'toss_day_cnt', 'ba_receive_day_cnt', 'ba_open_day_cnt', 'sa_receive_day_cnt', 'sa_open_day_cnt', 'cr_generate_day_cnt', 'cr_play_day_cnt', 'dd_generate_day_cnt', 'dd_play_day_cnt',\n",
    "    'heartbeat_cnt', 'login_cnt', 'liveview_cnt', 'talk_cnt', 'toss_cnt', 'ba_receive_cnt', 'ba_open_cnt', 'sa_receive_cnt', 'sa_open_cnt', 'cr_generate_cnt', 'cr_play_cnt', 'dd_generate_cnt', 'dd_play_cnt',\n",
    "    'is_cancelled_next_month'\n",
    "]].fillna(0)\n",
    "df_linear = df_category_one_hot.join(df_1)\n",
    "df_tree = df_category_label.join(df_1)\n",
    "print(df_linear.shape, df_tree.shape)\n",
    "\n"
   ]
  },
  {
   "cell_type": "markdown",
   "id": "309d0a2f",
   "metadata": {},
   "source": [
    "### Check feature/lable distribution"
   ]
  },
  {
   "cell_type": "code",
   "execution_count": null,
   "id": "d062bf57",
   "metadata": {},
   "outputs": [],
   "source": [
    "# data visualization\n",
    "import seaborn as sns\n",
    "import matplotlib.pyplot as plt"
   ]
  },
  {
   "cell_type": "code",
   "execution_count": null,
   "id": "639a186c",
   "metadata": {},
   "outputs": [],
   "source": [
    "# for i in range(df_tree.shape[1]):\n",
    "#     try:\n",
    "#         sns.distplot(df_tree.iloc[:,i])\n",
    "#         plt.show()\n",
    "#     except:\n",
    "#         pass"
   ]
  },
  {
   "cell_type": "code",
   "execution_count": null,
   "id": "97e979a2",
   "metadata": {
    "scrolled": true
   },
   "outputs": [],
   "source": [
    "sns.set(style='ticks', color_codes=True)\n",
    "plt.figure(figsize=(8, 12))\n",
    "sns.heatmap(df_tree.corr()[['is_cancelled_next_month']].sort_values(by='is_cancelled_next_month', ascending=False), cmap='YlGnBu', linewidths=0.1, linecolor='w', annot=True)\n",
    "plt.show()"
   ]
  },
  {
   "cell_type": "markdown",
   "id": "cbc4041a",
   "metadata": {},
   "source": [
    "### Linear"
   ]
  },
  {
   "cell_type": "markdown",
   "id": "531861ff",
   "metadata": {},
   "source": [
    "#### Take 70% data for training, 30％ for testing (fix the random state !!!)"
   ]
  },
  {
   "cell_type": "code",
   "execution_count": null,
   "id": "45f9e842",
   "metadata": {},
   "outputs": [],
   "source": [
    "from sklearn.model_selection import train_test_split\n",
    "x_train, x_test, y_train, y_test = train_test_split(\n",
    "    df_linear.iloc[:, : -1], df_linear.iloc[:, -1], test_size=0.3, random_state=0)\n"
   ]
  },
  {
   "cell_type": "markdown",
   "id": "eb26ab3f",
   "metadata": {},
   "source": [
    "#### Oversampling for imbalanced data"
   ]
  },
  {
   "cell_type": "code",
   "execution_count": null,
   "id": "96813d6e",
   "metadata": {},
   "outputs": [],
   "source": [
    "from imblearn.over_sampling import SMOTE\n",
    "\n",
    "sm = SMOTE(random_state=77)\n",
    "x_train, y_train = sm.fit_resample(x_train, y_train)\n",
    "\n",
    "x_train = x_train.to_numpy()\n",
    "x_test = x_test.to_numpy()\n",
    "y_train = y_train.to_numpy()\n",
    "y_test = y_test.to_numpy()"
   ]
  },
  {
   "cell_type": "markdown",
   "id": "e917ba8f",
   "metadata": {},
   "source": [
    "#### SGDRegression"
   ]
  },
  {
   "cell_type": "code",
   "execution_count": null,
   "id": "273130b5",
   "metadata": {},
   "outputs": [],
   "source": [
    "from sklearn.linear_model import SGDClassifier\n",
    "from sklearn.preprocessing import StandardScaler\n",
    "\n",
    "\n",
    "# Normalize\n",
    "normalizer = StandardScaler()\n",
    "normalizer.fit(x_train)\n",
    "x_train_norm = normalizer.transform(x_train)\n",
    "x_test_norm = normalizer.transform(x_test)\n",
    "\n",
    "\n",
    "# Train\n",
    "clf = SGDClassifier(alpha=0.0001, average=False, class_weight=None,\n",
    "                    early_stopping=False, epsilon=0.1, eta0=0.1, fit_intercept=True,\n",
    "                    l1_ratio=0.15, learning_rate='constant', loss='log_loss',\n",
    "                    max_iter=1000, n_iter_no_change=5, n_jobs=None, penalty='l2',\n",
    "                    power_t=0.5, random_state=0, shuffle=True, tol=0.001,\n",
    "                    validation_fraction=0.1, verbose=0, warm_start=False)\n",
    "clf.fit(x_train_norm, y_train)\n",
    "\n",
    "\n"
   ]
  },
  {
   "cell_type": "code",
   "execution_count": null,
   "id": "6f954229",
   "metadata": {},
   "outputs": [],
   "source": [
    "# from sklearn.metrics import accuracy_score\n",
    "from sklearn.metrics import classification_report\n",
    "\n",
    "\n",
    "def binarize_predict(_y_pred, thresh=0.5):\n",
    "    return (_y_pred > thresh).astype(int)\n",
    "\n",
    "\n",
    "# accuracy_train = accuracy_score(binarize_predict(clf.predict(x_train_norm)), y_train)\n",
    "# accuracy_test = accuracy_score(binarize_predict(clf.predict(x_test_norm)), y_test)\n",
    "\n",
    "print('Training:')\n",
    "print(classification_report(y_train,binarize_predict(clf.predict(x_train_norm))))\n",
    "print('Testing:')\n",
    "print(classification_report(y_test,binarize_predict(clf.predict(x_test_norm))))\n",
    "\n",
    "# print('training accuracy: {:4f}, testing accuracy: {:4f}'.format(accuracy_train, accuracy_test))\n"
   ]
  },
  {
   "cell_type": "markdown",
   "id": "6d8bb3eb",
   "metadata": {},
   "source": [
    "#### Importance"
   ]
  },
  {
   "cell_type": "code",
   "execution_count": null,
   "id": "d228d1b1",
   "metadata": {},
   "outputs": [],
   "source": [
    "importance = clf.coef_[0]\n",
    "\n",
    "for i,v in enumerate(importance):\n",
    "    print('Feature: %0d.%60s Score: %.5f' % (i,df_linear.columns[i],v))\n",
    "\n",
    "plt.bar([x for x in range(len(importance))], importance)\n",
    "plt.show()\n"
   ]
  },
  {
   "cell_type": "markdown",
   "id": "1fad376c",
   "metadata": {},
   "source": [
    "### Trees"
   ]
  },
  {
   "cell_type": "markdown",
   "id": "ea3ad1c7",
   "metadata": {},
   "source": [
    "#### Take 70% data for training, 30％ for testing (fix the random state !!!)"
   ]
  },
  {
   "cell_type": "code",
   "execution_count": null,
   "id": "7d47451d",
   "metadata": {},
   "outputs": [],
   "source": [
    "from sklearn.model_selection import train_test_split\n",
    "x_train, x_test, y_train, y_test = train_test_split(\n",
    "    df_tree.iloc[:, : -1], df_tree.iloc[:, -1], test_size=0.3, random_state=0)\n"
   ]
  },
  {
   "cell_type": "markdown",
   "id": "fb536289",
   "metadata": {},
   "source": [
    "#### Oversampling for imbalanced data"
   ]
  },
  {
   "cell_type": "code",
   "execution_count": null,
   "id": "5da8145e",
   "metadata": {},
   "outputs": [],
   "source": [
    "sm = SMOTE(random_state=7)\n",
    "x_train, y_train = sm.fit_resample(x_train, y_train)\n",
    "\n",
    "x_train = x_train.to_numpy()\n",
    "x_test = x_test.to_numpy()\n",
    "y_train = y_train.to_numpy()\n",
    "y_test = y_test.to_numpy()"
   ]
  },
  {
   "cell_type": "markdown",
   "id": "3c34a1d8",
   "metadata": {},
   "source": [
    "#### XGBoost"
   ]
  },
  {
   "cell_type": "code",
   "execution_count": null,
   "id": "dceb82e6",
   "metadata": {
    "scrolled": true
   },
   "outputs": [],
   "source": [
    "from xgboost.sklearn import XGBClassifier\n",
    "\n",
    "\n",
    "max_depth = 10\n",
    "max_estimator = 150\n",
    "learning_rate = 1\n",
    "min_child_weight = 0 # force fitting training\n",
    "\n",
    "model = XGBClassifier(scale_pos_weight=3,min_child_weight=min_child_weight, learning_rate=learning_rate, max_depth=max_depth, random_state=0, n_estimators=max_estimator)\n",
    "model.fit(x_train, y_train.ravel(), eval_set=[(x_train, y_train.ravel()), (x_test, y_test.ravel())], eval_metric='error', verbose=False)\n",
    "\n",
    "results = model.evals_result()\n",
    "epochs = len(results['validation_0']['error'])\n",
    "x_axis = range(0, epochs)\n",
    "fig, ax = plt.subplots()\n",
    "ax.plot(range(1, max_estimator+1), results['validation_0']['error'], '-o', label='train_errors')\n",
    "ax.plot(range(1, max_estimator+1), results['validation_1']['error'], '-o', label='test_errors')\n",
    "ax.legend(bbox_to_anchor=(1, 1), loc='upper left', borderaxespad=0.1)\n",
    "plt.xlabel('n_estimator')\n",
    "plt.ylabel('error rate')\n",
    "plt.show()"
   ]
  },
  {
   "cell_type": "code",
   "execution_count": null,
   "id": "37bba893",
   "metadata": {},
   "outputs": [],
   "source": [
    "print('Training:')\n",
    "print(classification_report(y_train,binarize_predict(model.predict(x_train))))\n",
    "print('Testing:')\n",
    "print(classification_report(y_test,binarize_predict(model.predict(x_test))))"
   ]
  },
  {
   "cell_type": "code",
   "execution_count": null,
   "id": "6b32be2c",
   "metadata": {},
   "outputs": [],
   "source": []
  }
 ],
 "metadata": {
  "kernelspec": {
   "display_name": "Python 3 (ipykernel)",
   "language": "python",
   "name": "python3"
  },
  "language_info": {
   "codemirror_mode": {
    "name": "ipython",
    "version": 3
   },
   "file_extension": ".py",
   "mimetype": "text/x-python",
   "name": "python",
   "nbconvert_exporter": "python",
   "pygments_lexer": "ipython3",
   "version": "3.8.9"
  }
 },
 "nbformat": 4,
 "nbformat_minor": 5
}
