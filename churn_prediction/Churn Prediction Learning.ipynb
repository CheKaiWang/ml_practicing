{
 "cells": [
  {
   "cell_type": "markdown",
   "id": "9fb8e6ae",
   "metadata": {},
   "source": [
    "## Task: Expiring but Not Cancelled Subscriber Churn Pridiction\n",
    "\n",
    "### Churn Definition:\n",
    "Subscribers at the end of each month who expired at the next month.\n",
    "\n",
    "### Expiring but Not Cancelled Subscriber\n",
    "For subscribers who:\n",
    "- expiration date on the next month\n",
    "- auto renew = true (havn’t cancel)\n",
    "\n",
    "Predict if the subscriber will truely expired or not (no matter manual cancel or force cancel)\n",
    "Calculate in Monthly basis (to sync with current churn rate calculation)"
   ]
  },
  {
   "cell_type": "markdown",
   "id": "fce5c3a2",
   "metadata": {},
   "source": [
    "### Libraries"
   ]
  },
  {
   "cell_type": "code",
   "execution_count": 1,
   "id": "c921250f",
   "metadata": {},
   "outputs": [],
   "source": [
    "# machine learning library\n",
    "import sklearn # https://scikit-learn.org/stable/\n",
    "\n",
    "# linear algebra\n",
    "import numpy as np # https://numpy.org/\n",
    "\n",
    "# data processing\n",
    "import pandas as pd # https://github.com/pandas-dev/pandas"
   ]
  },
  {
   "cell_type": "markdown",
   "id": "eaf9a94e",
   "metadata": {},
   "source": [
    "dataframe"
   ]
  },
  {
   "cell_type": "code",
   "execution_count": 43,
   "id": "8035a5ee",
   "metadata": {},
   "outputs": [
    {
     "data": {
      "text/plain": [
       "(71447, 46)"
      ]
     },
     "execution_count": 43,
     "metadata": {},
     "output_type": "execute_result"
    }
   ],
   "source": [
    "df = pd.read_csv('user_feature_collection.csv')\n",
    "df.shape"
   ]
  },
  {
   "cell_type": "code",
   "execution_count": 41,
   "id": "efdd8d35",
   "metadata": {},
   "outputs": [
    {
     "data": {
      "text/plain": [
       "False    68352\n",
       "True      3095\n",
       "Name: is_cancelled_next_month, dtype: int64"
      ]
     },
     "execution_count": 41,
     "metadata": {},
     "output_type": "execute_result"
    }
   ],
   "source": [
    "df.is_cancelled_next_month.value_counts()"
   ]
  },
  {
   "cell_type": "code",
   "execution_count": 42,
   "id": "d0236c32",
   "metadata": {
    "scrolled": true
   },
   "outputs": [
    {
     "data": {
      "text/plain": [
       "<bound method NDFrame.describe of       snapshot_date    account_id account_country        register_datetime  \\\n",
       "0        2022-05-31  HQ0RHR5NDBE9              US  2020-10-12 16:21:30.000   \n",
       "1        2022-05-31  HQ0RHR5NJ67B              US  2021-05-01 12:27:20.000   \n",
       "2        2022-05-31  HQ0RHR5NHBOT              CA  2021-01-12 20:54:15.000   \n",
       "3        2022-05-31  HQ0RHR5NI3XE              US  2021-03-09 07:45:19.000   \n",
       "4        2022-05-31  HPRXDMQ639FS              US  2019-12-03 21:19:58.000   \n",
       "...             ...           ...             ...                      ...   \n",
       "71442    2022-05-31  HPRXDMQ63US6              US  2019-12-14 21:58:38.000   \n",
       "71443    2022-05-31  HPRXDMQ63AFL              US  2019-12-04 01:06:13.000   \n",
       "71444    2022-05-31  HQ47B24X8BZN              US  2021-06-09 01:55:08.000   \n",
       "71445    2022-05-31  HQ47B24XBPV6              US  2021-12-04 15:14:07.000   \n",
       "71446    2022-05-31  HPOFIMN0O1FZ              US  2018-10-10 04:02:55.000   \n",
       "\n",
       "       pet_count  max_pet_age  min_pet_age  camera_count  \\\n",
       "0              2          7.0          4.0             1   \n",
       "1              0          NaN          NaN             1   \n",
       "2              0          NaN          NaN             1   \n",
       "3              0          NaN          NaN             1   \n",
       "4              2         10.0          9.0             1   \n",
       "...          ...          ...          ...           ...   \n",
       "71442          3          NaN          NaN             1   \n",
       "71443          1          3.0          3.0             1   \n",
       "71444          0          NaN          NaN             1   \n",
       "71445          1          1.0          1.0             1   \n",
       "71446          1          4.0          4.0             1   \n",
       "\n",
       "      first_camera_setup_datetime last_camera_setup_datetime  ...  talk_cnt  \\\n",
       "0         2020-10-12 16:24:25.000    2020-10-12 16:24:25.000  ...       NaN   \n",
       "1         2021-05-01 12:39:13.000    2021-05-01 12:39:13.000  ...       NaN   \n",
       "2         2021-01-12 20:56:14.000    2021-01-12 20:56:14.000  ...       NaN   \n",
       "3         2021-03-09 07:46:05.000    2021-03-09 07:46:05.000  ...       NaN   \n",
       "4         2019-12-03 21:21:39.000    2019-12-03 21:21:39.000  ...       NaN   \n",
       "...                           ...                        ...  ...       ...   \n",
       "71442     2019-12-14 22:01:22.000    2019-12-14 22:01:22.000  ...       4.0   \n",
       "71443     2021-07-27 04:19:57.000    2021-07-27 04:19:57.000  ...       NaN   \n",
       "71444     2021-06-09 02:04:06.000    2021-06-09 02:04:06.000  ...       NaN   \n",
       "71445     2021-12-04 15:15:11.000    2021-12-04 15:15:11.000  ...       9.0   \n",
       "71446     2018-10-12 19:03:30.000    2018-10-12 19:03:30.000  ...       5.0   \n",
       "\n",
       "      toss_cnt ba_receive_cnt  ba_open_cnt sa_receive_cnt sa_open_cnt  \\\n",
       "0          1.0            NaN          NaN           38.0         3.0   \n",
       "1          NaN            NaN          NaN            6.0         NaN   \n",
       "2          NaN            NaN          NaN            NaN         NaN   \n",
       "3          NaN            8.0          NaN          251.0         5.0   \n",
       "4          NaN            NaN          NaN            NaN         NaN   \n",
       "...        ...            ...          ...            ...         ...   \n",
       "71442      NaN           10.0          NaN          144.0         8.0   \n",
       "71443      NaN            NaN          NaN            NaN         NaN   \n",
       "71444      NaN            2.0          NaN          141.0         4.0   \n",
       "71445      5.0           93.0          5.0           66.0         1.0   \n",
       "71446     22.0           36.0          4.0           22.0         1.0   \n",
       "\n",
       "      cr_generate_cnt cr_play_cnt dd_generate_cnt  dd_play_cnt  \n",
       "0              7423.0        10.0            17.0          NaN  \n",
       "1                87.0         NaN             1.0          NaN  \n",
       "2                 NaN         NaN             NaN          NaN  \n",
       "3              1532.0        44.0             7.0          NaN  \n",
       "4                 NaN         NaN             NaN          NaN  \n",
       "...               ...         ...             ...          ...  \n",
       "71442          9006.0        94.0            16.0          NaN  \n",
       "71443             NaN         NaN             NaN          NaN  \n",
       "71444           288.0         2.0            12.0          NaN  \n",
       "71445         23128.0        34.0            26.0          7.0  \n",
       "71446           243.0       104.0             5.0          7.0  \n",
       "\n",
       "[71447 rows x 46 columns]>"
      ]
     },
     "execution_count": 42,
     "metadata": {},
     "output_type": "execute_result"
    }
   ],
   "source": [
    "df.describe"
   ]
  },
  {
   "cell_type": "markdown",
   "id": "6a811228",
   "metadata": {},
   "source": [
    "### Data Preprocessing and Feature Selection\n",
    "Transfer non-numeric column to numbers"
   ]
  },
  {
   "cell_type": "markdown",
   "id": "61252d61",
   "metadata": {},
   "source": [
    "#### Datetimes"
   ]
  },
  {
   "cell_type": "code",
   "execution_count": 5,
   "id": "e3cccdad",
   "metadata": {},
   "outputs": [],
   "source": [
    "# Register Date\n",
    "df['register_month'] = df.register_datetime.astype('datetime64[ns]').dt.month.astype('str')\n",
    "df['registered_days'] = (df.snapshot_date.astype('datetime64[ns]') - df.register_datetime.astype('datetime64[ns]')).dt.days\n",
    "\n",
    "# Camera Setup Date\n",
    "df['max_camera_setup_days'] = (df.snapshot_date.astype('datetime64[ns]') - df.first_camera_setup_datetime.astype('datetime64[ns]')).dt.days\n",
    "df['min_camera_setup_days'] = (df.snapshot_date.astype('datetime64[ns]') - df.last_camera_setup_datetime.astype('datetime64[ns]')).dt.days\n",
    "\n",
    "# Trial Date\n",
    "df['first_trial_month'] = df.first_trial_start_datetime.astype('datetime64[ns]').dt.month.fillna(0).astype('str')\n",
    "df['last_trial_month'] = df.last_trial_start_datetime.astype('datetime64[ns]').dt.month.fillna(0).astype('str')\n",
    "df['fdn_experience_age'] = (df.snapshot_date.astype('datetime64[ns]') - df.first_trial_start_datetime.astype('datetime64[ns]')).dt.days\n",
    "\n",
    "# Subscription\n",
    "df['first_subscribe_month'] = df.first_subscription_start_datetime.astype('datetime64[ns]').dt.month.fillna(0).astype('str')\n",
    "df['last_subscribe_month'] = df.last_subscription_start_datetime.astype('datetime64[ns]').dt.month.fillna(0).astype('str')\n",
    "df['subscription_period'] = (df.subscription_expire_datetime.astype('datetime64[ns]') - df.subscription_start_datetime.astype('datetime64[ns]')).dt.days\n",
    "df['fdn_remain_days'] = (df.subscription_expire_datetime.astype('datetime64[ns]') - df.snapshot_date.astype('datetime64[ns]')).dt.days\n"
   ]
  },
  {
   "cell_type": "markdown",
   "id": "cca0975a",
   "metadata": {},
   "source": [
    "#### Nominal Variables: 1/0, One-hot Encoding (For Linear), Label Encoding "
   ]
  },
  {
   "cell_type": "code",
   "execution_count": 6,
   "id": "5406f9ec",
   "metadata": {},
   "outputs": [],
   "source": [
    "# is_cancelled_next_month: True/False\n",
    "df.is_cancelled_next_month = df.is_cancelled_next_month.astype(int)\n",
    "\n",
    "# One-hot Encoding\n",
    "df_category = df[['account_country', 'subscription_plan_id', 'register_month', 'first_trial_month', 'last_trial_month', 'first_subscribe_month', 'last_subscribe_month']]\n",
    "df_category_one_hot = pd.get_dummies(df_category)\n",
    "\n",
    "#Label Encoding\n",
    "from sklearn.preprocessing import LabelEncoder\n",
    "labelencoder = LabelEncoder()\n",
    "df_category_label = df_category.loc[:]\n",
    "df_category_label.account_country = labelencoder.fit_transform(df_category_label.account_country)\n",
    "df_category_label.subscription_plan_id = labelencoder.fit_transform(df_category_label.subscription_plan_id)\n",
    "\n"
   ]
  },
  {
   "cell_type": "markdown",
   "id": "c54f49a9",
   "metadata": {},
   "source": [
    "#### Select Features"
   ]
  },
  {
   "cell_type": "code",
   "execution_count": 7,
   "id": "4e99de98",
   "metadata": {},
   "outputs": [
    {
     "name": "stdout",
     "output_type": "stream",
     "text": [
      "(71447, 147) (71447, 45)\n"
     ]
    }
   ],
   "source": [
    "df_1 = df[[\n",
    "    'registered_days','pet_count','max_pet_age','min_pet_age','camera_count','max_camera_setup_days','min_camera_setup_days','trial_count','fdn_experience_age','subscription_count','fdn_remain_days',\n",
    "    'heartbeat_day_cnt', 'login_day_cnt', 'liveview_day_cnt', 'talk_day_cnt', 'toss_day_cnt', 'ba_receive_day_cnt', 'ba_open_day_cnt', 'sa_receive_day_cnt', 'sa_open_day_cnt', 'cr_generate_day_cnt', 'cr_play_day_cnt', 'dd_generate_day_cnt', 'dd_play_day_cnt',\n",
    "    'heartbeat_cnt', 'login_cnt', 'liveview_cnt', 'talk_cnt', 'toss_cnt', 'ba_receive_cnt', 'ba_open_cnt', 'sa_receive_cnt', 'sa_open_cnt', 'cr_generate_cnt', 'cr_play_cnt', 'dd_generate_cnt', 'dd_play_cnt',\n",
    "    'is_cancelled_next_month'\n",
    "]].fillna(0)\n",
    "df_linear = df_category_one_hot.join(df_1)\n",
    "df_tree = df_category_label.join(df_1)\n",
    "print(df_linear.shape, df_tree.shape)\n",
    "\n"
   ]
  },
  {
   "cell_type": "markdown",
   "id": "309d0a2f",
   "metadata": {},
   "source": [
    "### Check feature/lable distribution"
   ]
  },
  {
   "cell_type": "code",
   "execution_count": 8,
   "id": "d062bf57",
   "metadata": {},
   "outputs": [],
   "source": [
    "# data visualization\n",
    "import seaborn as sns\n",
    "import matplotlib.pyplot as plt"
   ]
  },
  {
   "cell_type": "code",
   "execution_count": 9,
   "id": "639a186c",
   "metadata": {},
   "outputs": [],
   "source": [
    "# for i in range(df_tree.shape[1]):\n",
    "#     try:\n",
    "#         sns.distplot(df_tree.iloc[:,i])\n",
    "#         plt.show()\n",
    "#     except:\n",
    "#         pass"
   ]
  },
  {
   "cell_type": "code",
   "execution_count": 10,
   "id": "97e979a2",
   "metadata": {
    "scrolled": true
   },
   "outputs": [
    {
     "data": {
      "image/png": "[encoded data removed]",
      "text/plain": [
       "<Figure size 576x864 with 2 Axes>"
      ]
     },
     "metadata": {
      "needs_background": "light"
     },
     "output_type": "display_data"
    }
   ],
   "source": [
    "sns.set(style='ticks', color_codes=True)\n",
    "plt.figure(figsize=(8, 12))\n",
    "sns.heatmap(df_tree.corr()[['is_cancelled_next_month']].sort_values(by='is_cancelled_next_month', ascending=False), cmap='YlGnBu', linewidths=0.1, linecolor='w', annot=True)\n",
    "plt.show()"
   ]
  },
  {
   "cell_type": "markdown",
   "id": "cbc4041a",
   "metadata": {},
   "source": [
    "### Linear"
   ]
  },
  {
   "cell_type": "markdown",
   "id": "531861ff",
   "metadata": {},
   "source": [
    "#### Take 70% data for training, 30％ for testing (fix the random state !!!)"
   ]
  },
  {
   "cell_type": "code",
   "execution_count": 19,
   "id": "45f9e842",
   "metadata": {},
   "outputs": [],
   "source": [
    "from sklearn.model_selection import train_test_split\n",
    "x_train, x_test, y_train, y_test = train_test_split(\n",
    "    df_linear.iloc[:, : -1], df_linear.iloc[:, -1], test_size=0.3, random_state=0)\n"
   ]
  },
  {
   "cell_type": "markdown",
   "id": "eb26ab3f",
   "metadata": {},
   "source": [
    "#### Oversampling for imbalanced data"
   ]
  },
  {
   "cell_type": "code",
   "execution_count": 20,
   "id": "96813d6e",
   "metadata": {},
   "outputs": [],
   "source": [
    "from imblearn.over_sampling import SMOTE\n",
    "\n",
    "sm = SMOTE(random_state=77)\n",
    "x_train, y_train = sm.fit_resample(x_train, y_train)\n",
    "\n",
    "x_train = x_train.to_numpy()\n",
    "x_test = x_test.to_numpy()\n",
    "y_train = y_train.to_numpy()\n",
    "y_test = y_test.to_numpy()"
   ]
  },
  {
   "cell_type": "markdown",
   "id": "e917ba8f",
   "metadata": {},
   "source": [
    "#### SGDRegression"
   ]
  },
  {
   "cell_type": "code",
   "execution_count": 21,
   "id": "273130b5",
   "metadata": {},
   "outputs": [
    {
     "data": {
      "text/html": [
       "<style>#sk-container-id-3 {color: black;background-color: white;}#sk-container-id-3 pre{padding: 0;}#sk-container-id-3 div.sk-toggleable {background-color: white;}#sk-container-id-3 label.sk-toggleable__label {cursor: pointer;display: block;width: 100%;margin-bottom: 0;padding: 0.3em;box-sizing: border-box;text-align: center;}#sk-container-id-3 label.sk-toggleable__label-arrow:before {content: \"▸\";float: left;margin-right: 0.25em;color: #696969;}#sk-container-id-3 label.sk-toggleable__label-arrow:hover:before {color: black;}#sk-container-id-3 div.sk-estimator:hover label.sk-toggleable__label-arrow:before {color: black;}#sk-container-id-3 div.sk-toggleable__content {max-height: 0;max-width: 0;overflow: hidden;text-align: left;background-color: #f0f8ff;}#sk-container-id-3 div.sk-toggleable__content pre {margin: 0.2em;color: black;border-radius: 0.25em;background-color: #f0f8ff;}#sk-container-id-3 input.sk-toggleable__control:checked~div.sk-toggleable__content {max-height: 200px;max-width: 100%;overflow: auto;}#sk-container-id-3 input.sk-toggleable__control:checked~label.sk-toggleable__label-arrow:before {content: \"▾\";}#sk-container-id-3 div.sk-estimator input.sk-toggleable__control:checked~label.sk-toggleable__label {background-color: #d4ebff;}#sk-container-id-3 div.sk-label input.sk-toggleable__control:checked~label.sk-toggleable__label {background-color: #d4ebff;}#sk-container-id-3 input.sk-hidden--visually {border: 0;clip: rect(1px 1px 1px 1px);clip: rect(1px, 1px, 1px, 1px);height: 1px;margin: -1px;overflow: hidden;padding: 0;position: absolute;width: 1px;}#sk-container-id-3 div.sk-estimator {font-family: monospace;background-color: #f0f8ff;border: 1px dotted black;border-radius: 0.25em;box-sizing: border-box;margin-bottom: 0.5em;}#sk-container-id-3 div.sk-estimator:hover {background-color: #d4ebff;}#sk-container-id-3 div.sk-parallel-item::after {content: \"\";width: 100%;border-bottom: 1px solid gray;flex-grow: 1;}#sk-container-id-3 div.sk-label:hover label.sk-toggleable__label {background-color: #d4ebff;}#sk-container-id-3 div.sk-serial::before {content: \"\";position: absolute;border-left: 1px solid gray;box-sizing: border-box;top: 0;bottom: 0;left: 50%;z-index: 0;}#sk-container-id-3 div.sk-serial {display: flex;flex-direction: column;align-items: center;background-color: white;padding-right: 0.2em;padding-left: 0.2em;position: relative;}#sk-container-id-3 div.sk-item {position: relative;z-index: 1;}#sk-container-id-3 div.sk-parallel {display: flex;align-items: stretch;justify-content: center;background-color: white;position: relative;}#sk-container-id-3 div.sk-item::before, #sk-container-id-3 div.sk-parallel-item::before {content: \"\";position: absolute;border-left: 1px solid gray;box-sizing: border-box;top: 0;bottom: 0;left: 50%;z-index: -1;}#sk-container-id-3 div.sk-parallel-item {display: flex;flex-direction: column;z-index: 1;position: relative;background-color: white;}#sk-container-id-3 div.sk-parallel-item:first-child::after {align-self: flex-end;width: 50%;}#sk-container-id-3 div.sk-parallel-item:last-child::after {align-self: flex-start;width: 50%;}#sk-container-id-3 div.sk-parallel-item:only-child::after {width: 0;}#sk-container-id-3 div.sk-dashed-wrapped {border: 1px dashed gray;margin: 0 0.4em 0.5em 0.4em;box-sizing: border-box;padding-bottom: 0.4em;background-color: white;}#sk-container-id-3 div.sk-label label {font-family: monospace;font-weight: bold;display: inline-block;line-height: 1.2em;}#sk-container-id-3 div.sk-label-container {text-align: center;}#sk-container-id-3 div.sk-container {/* jupyter's `normalize.less` sets `[hidden] { display: none; }` but bootstrap.min.css set `[hidden] { display: none !important; }` so we also need the `!important` here to be able to override the default hidden behavior on the sphinx rendered scikit-learn.org. See: https://github.com/scikit-learn/scikit-learn/issues/21755 */display: inline-block !important;position: relative;}#sk-container-id-3 div.sk-text-repr-fallback {display: none;}</style><div id=\"sk-container-id-3\" class=\"sk-top-container\"><div class=\"sk-text-repr-fallback\"><pre>SGDClassifier(eta0=0.1, learning_rate=&#x27;constant&#x27;, loss=&#x27;log_loss&#x27;,\n",
       "              random_state=0)</pre><b>In a Jupyter environment, please rerun this cell to show the HTML representation or trust the notebook. <br />On GitHub, the HTML representation is unable to render, please try loading this page with nbviewer.org.</b></div><div class=\"sk-container\" hidden><div class=\"sk-item\"><div class=\"sk-estimator sk-toggleable\"><input class=\"sk-toggleable__control sk-hidden--visually\" id=\"sk-estimator-id-3\" type=\"checkbox\" checked><label for=\"sk-estimator-id-3\" class=\"sk-toggleable__label sk-toggleable__label-arrow\">SGDClassifier</label><div class=\"sk-toggleable__content\"><pre>SGDClassifier(eta0=0.1, learning_rate=&#x27;constant&#x27;, loss=&#x27;log_loss&#x27;,\n",
       "              random_state=0)</pre></div></div></div></div></div>"
      ],
      "text/plain": [
       "SGDClassifier(eta0=0.1, learning_rate='constant', loss='log_loss',\n",
       "              random_state=0)"
      ]
     },
     "execution_count": 21,
     "metadata": {},
     "output_type": "execute_result"
    }
   ],
   "source": [
    "from sklearn.linear_model import SGDClassifier\n",
    "from sklearn.preprocessing import StandardScaler\n",
    "\n",
    "\n",
    "# Normalize\n",
    "normalizer = StandardScaler()\n",
    "normalizer.fit(x_train)\n",
    "x_train_norm = normalizer.transform(x_train)\n",
    "x_test_norm = normalizer.transform(x_test)\n",
    "\n",
    "\n",
    "# Train\n",
    "clf = SGDClassifier(alpha=0.0001, average=False, class_weight=None,\n",
    "                    early_stopping=False, epsilon=0.1, eta0=0.1, fit_intercept=True,\n",
    "                    l1_ratio=0.15, learning_rate='constant', loss='log_loss',\n",
    "                    max_iter=1000, n_iter_no_change=5, n_jobs=None, penalty='l2',\n",
    "                    power_t=0.5, random_state=0, shuffle=True, tol=0.001,\n",
    "                    validation_fraction=0.1, verbose=0, warm_start=False)\n",
    "clf.fit(x_train_norm, y_train)\n",
    "\n",
    "\n"
   ]
  },
  {
   "cell_type": "code",
   "execution_count": 22,
   "id": "6f954229",
   "metadata": {},
   "outputs": [
    {
     "name": "stdout",
     "output_type": "stream",
     "text": [
      "Training:\n",
      "              precision    recall  f1-score   support\n",
      "\n",
      "           0       0.91      0.95      0.93     47823\n",
      "           1       0.95      0.91      0.93     47823\n",
      "\n",
      "    accuracy                           0.93     95646\n",
      "   macro avg       0.93      0.93      0.93     95646\n",
      "weighted avg       0.93      0.93      0.93     95646\n",
      "\n",
      "Testing:\n",
      "              precision    recall  f1-score   support\n",
      "\n",
      "           0       0.96      0.95      0.96     20529\n",
      "           1       0.07      0.08      0.08       906\n",
      "\n",
      "    accuracy                           0.91     21435\n",
      "   macro avg       0.52      0.52      0.52     21435\n",
      "weighted avg       0.92      0.91      0.92     21435\n",
      "\n"
     ]
    }
   ],
   "source": [
    "# from sklearn.metrics import accuracy_score\n",
    "from sklearn.metrics import classification_report\n",
    "\n",
    "\n",
    "def binarize_predict(_y_pred, thresh=0.5):\n",
    "    return (_y_pred > thresh).astype(int)\n",
    "\n",
    "\n",
    "# accuracy_train = accuracy_score(binarize_predict(clf.predict(x_train_norm)), y_train)\n",
    "# accuracy_test = accuracy_score(binarize_predict(clf.predict(x_test_norm)), y_test)\n",
    "\n",
    "print('Training:')\n",
    "print(classification_report(y_train,binarize_predict(clf.predict(x_train_norm))))\n",
    "print('Testing:')\n",
    "print(classification_report(y_test,binarize_predict(clf.predict(x_test_norm))))\n",
    "\n",
    "# print('training accuracy: {:4f}, testing accuracy: {:4f}'.format(accuracy_train, accuracy_test))\n"
   ]
  },
  {
   "cell_type": "markdown",
   "id": "6d8bb3eb",
   "metadata": {},
   "source": [
    "#### Importance"
   ]
  },
  {
   "cell_type": "code",
   "execution_count": null,
   "id": "d228d1b1",
   "metadata": {},
   "outputs": [],
   "source": [
    "importance = clf.coef_[0]\n",
    "\n",
    "for i,v in enumerate(importance):\n",
    "    print('Feature: %0d.%60s Score: %.5f' % (i,df_linear.columns[i],v))\n",
    "\n",
    "plt.bar([x for x in range(len(importance))], importance)\n",
    "plt.show()\n"
   ]
  },
  {
   "cell_type": "markdown",
   "id": "1fad376c",
   "metadata": {},
   "source": [
    "### Trees"
   ]
  },
  {
   "cell_type": "markdown",
   "id": "ea3ad1c7",
   "metadata": {},
   "source": [
    "#### Take 70% data for training, 30％ for testing (fix the random state !!!)"
   ]
  },
  {
   "cell_type": "code",
   "execution_count": null,
   "id": "7d47451d",
   "metadata": {},
   "outputs": [],
   "source": [
    "from sklearn.model_selection import train_test_split\n",
    "x_train, x_test, y_train, y_test = train_test_split(\n",
    "    df_tree.iloc[:, : -1], df_tree.iloc[:, -1], test_size=0.3, random_state=0)\n"
   ]
  },
  {
   "cell_type": "markdown",
   "id": "fb536289",
   "metadata": {},
   "source": [
    "#### Oversampling for imbalanced data"
   ]
  },
  {
   "cell_type": "code",
   "execution_count": null,
   "id": "5da8145e",
   "metadata": {},
   "outputs": [],
   "source": [
    "sm = SMOTE(random_state=7)\n",
    "x_train, y_train = sm.fit_resample(x_train, y_train)\n",
    "\n",
    "x_train = x_train.to_numpy()\n",
    "x_test = x_test.to_numpy()\n",
    "y_train = y_train.to_numpy()\n",
    "y_test = y_test.to_numpy()"
   ]
  },
  {
   "cell_type": "markdown",
   "id": "3c34a1d8",
   "metadata": {},
   "source": [
    "#### XGBoost"
   ]
  },
  {
   "cell_type": "code",
   "execution_count": null,
   "id": "dceb82e6",
   "metadata": {
    "scrolled": true
   },
   "outputs": [],
   "source": [
    "from xgboost.sklearn import XGBClassifier\n",
    "\n",
    "\n",
    "max_depth = 10\n",
    "max_estimator = 150\n",
    "learning_rate = 1\n",
    "min_child_weight = 0 # force fitting training\n",
    "\n",
    "model = XGBClassifier(scale_pos_weight=3,min_child_weight=min_child_weight, learning_rate=learning_rate, max_depth=max_depth, random_state=0, n_estimators=max_estimator)\n",
    "model.fit(x_train, y_train.ravel(), eval_set=[(x_train, y_train.ravel()), (x_test, y_test.ravel())], eval_metric='error', verbose=False)\n",
    "\n",
    "results = model.evals_result()\n",
    "epochs = len(results['validation_0']['error'])\n",
    "x_axis = range(0, epochs)\n",
    "fig, ax = plt.subplots()\n",
    "ax.plot(range(1, max_estimator+1), results['validation_0']['error'], '-o', label='train_errors')\n",
    "ax.plot(range(1, max_estimator+1), results['validation_1']['error'], '-o', label='test_errors')\n",
    "ax.legend(bbox_to_anchor=(1, 1), loc='upper left', borderaxespad=0.1)\n",
    "plt.xlabel('n_estimator')\n",
    "plt.ylabel('error rate')\n",
    "plt.show()"
   ]
  },
  {
   "cell_type": "code",
   "execution_count": null,
   "id": "37bba893",
   "metadata": {},
   "outputs": [],
   "source": [
    "print('Training:')\n",
    "print(classification_report(y_train,binarize_predict(model.predict(x_train))))\n",
    "print('Testing:')\n",
    "print(classification_report(y_test,binarize_predict(model.predict(x_test))))"
   ]
  },
  {
   "cell_type": "code",
   "execution_count": null,
   "id": "6b32be2c",
   "metadata": {},
   "outputs": [],
   "source": []
  }
 ],
 "metadata": {
  "kernelspec": {
   "display_name": "Python 3 (ipykernel)",
   "language": "python",
   "name": "python3"
  },
  "language_info": {
   "codemirror_mode": {
    "name": "ipython",
    "version": 3
   },
   "file_extension": ".py",
   "mimetype": "text/x-python",
   "name": "python",
   "nbconvert_exporter": "python",
   "pygments_lexer": "ipython3",
   "version": "3.8.9"
  }
 },
 "nbformat": 4,
 "nbformat_minor": 5
}
